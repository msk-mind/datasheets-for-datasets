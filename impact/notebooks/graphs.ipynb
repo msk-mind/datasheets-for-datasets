{
 "cells": [
  {
   "cell_type": "code",
   "execution_count": null,
   "id": "1381be8c-4065-4d27-b213-95d5002797f8",
   "metadata": {},
   "outputs": [],
   "source": [
    "import os\n",
    "import pandas as pd\n",
    "\n",
    "from collections import Counter\n",
    "\n",
    "ONCOKB_DIR = '/home/moored2/shared_data_folder/moored2/impact_exploration/oncokb-annotated-msk-impact'\n",
    "IMPACT_DIR = '/home/moored2/shared_data_folder/moored2/impact_exploration/msk-impact/msk_solid_heme'"
   ]
  },
  {
   "cell_type": "code",
   "execution_count": null,
   "id": "d45ef2cf-d336-4458-953f-251dbcad4964",
   "metadata": {},
   "outputs": [],
   "source": [
    "okb_impact_filename = os.path.join(ONCOKB_DIR, 'data_clinical_sample.oncokb.txt')\n",
    "okb_impact_df = pd.read_csv(okb_impact_filename, sep='\\t')"
   ]
  },
  {
   "cell_type": "code",
   "execution_count": null,
   "id": "6bff98b5-0593-4753-a9d1-1d7bf15ff513",
   "metadata": {},
   "outputs": [],
   "source": [
    "patient_filename = os.path.join(IMPACT_DIR,'data_clinical_patient.txt')\n",
    "patient_df = pd.read_csv(patient_filename, skiprows=3, sep='\\t', header=1)"
   ]
  },
  {
   "cell_type": "code",
   "execution_count": null,
   "id": "4d9e5f2c-bec4-493c-83fa-ec8c0c5db562",
   "metadata": {},
   "outputs": [],
   "source": [
    "df = okb_impact_df.merge(patient_df, on=\"PATIENT_ID\")"
   ]
  },
  {
   "cell_type": "code",
   "execution_count": null,
   "id": "84131d4e-15b0-4b03-a215-006d1756d7ad",
   "metadata": {},
   "outputs": [],
   "source": [
    "def create_count_df(field):\n",
    "    _keys = Counter(field).keys()\n",
    "    _vals = Counter(field).values()\n",
    "\n",
    "    _df = pd.DataFrame({'Keys': _keys, 'Amount': _vals})\n",
    "    _df.sort_values(by=['Amount'], ascending=False)\n",
    "\n",
    "    return _df\n",
    "\n",
    "def plot_df(graph_df, graph_title):\n",
    "    return graph_df.plot.bar(x=\"Keys\", y=\"Amount\", title=graph_title)"
   ]
  },
  {
   "cell_type": "code",
   "execution_count": null,
   "id": "272f35fd-8623-485f-beb4-a94614a016e5",
   "metadata": {},
   "outputs": [],
   "source": [
    "df.columns"
   ]
  },
  {
   "cell_type": "code",
   "execution_count": null,
   "id": "f08e0636-3a8e-48f9-a0f4-d1c8f1fd2115",
   "metadata": {},
   "outputs": [],
   "source": []
  },
  {
   "cell_type": "code",
   "execution_count": null,
   "id": "93fd9b57-11da-48c8-ace6-de672245b1fd",
   "metadata": {},
   "outputs": [],
   "source": [
    "cancer_df = create_count_df(df['CANCER_TYPE'])"
   ]
  },
  {
   "cell_type": "code",
   "execution_count": null,
   "id": "141eda9e-a041-447e-8cbd-ed487c0f48af",
   "metadata": {},
   "outputs": [],
   "source": [
    "cancer_df"
   ]
  },
  {
   "cell_type": "code",
   "execution_count": null,
   "id": "b779c3dc-14a9-4334-853c-4b82424dbee0",
   "metadata": {},
   "outputs": [],
   "source": [
    "plot_df(cancer_df, \"CANCER_TYPE\")"
   ]
  },
  {
   "cell_type": "code",
   "execution_count": null,
   "id": "30988a24-8e9d-49d6-af1b-6e53d7651d4a",
   "metadata": {},
   "outputs": [],
   "source": [
    "cancer_detailed_df = create_count_df(df['CANCER_TYPE_DETAILED'])"
   ]
  },
  {
   "cell_type": "code",
   "execution_count": null,
   "id": "1c13f60f-3d8e-441e-ba99-534417bd98b6",
   "metadata": {},
   "outputs": [],
   "source": [
    "cancer_detailed_df"
   ]
  },
  {
   "cell_type": "code",
   "execution_count": null,
   "id": "708c4b2f-5024-4245-9f33-2ae90a36e010",
   "metadata": {},
   "outputs": [],
   "source": [
    "plot_df(cancer_detailed_df, \"CANCER_TYPE_DETAILED\")"
   ]
  },
  {
   "cell_type": "code",
   "execution_count": null,
   "id": "5725f74b-e82c-4394-961a-888795f4a5d9",
   "metadata": {},
   "outputs": [],
   "source": [
    "race_df = create_count_df(df['RACE'])"
   ]
  },
  {
   "cell_type": "code",
   "execution_count": null,
   "id": "9f1a0244-2329-462e-a3ec-064ba31b8c66",
   "metadata": {},
   "outputs": [],
   "source": [
    "race_df"
   ]
  },
  {
   "cell_type": "code",
   "execution_count": null,
   "id": "7e579caf-28a1-4918-a45b-c8102f66ff06",
   "metadata": {},
   "outputs": [],
   "source": [
    "plot_df(race_df, 'RACE')"
   ]
  },
  {
   "cell_type": "code",
   "execution_count": null,
   "id": "d7d0cb8c-7dbe-44eb-ae9b-66ce8461c320",
   "metadata": {},
   "outputs": [],
   "source": [
    "ethnicity_df = create_count_df(df['ETHNICITY'])"
   ]
  },
  {
   "cell_type": "code",
   "execution_count": null,
   "id": "b2541d64-5a6f-4bb2-a329-b2631b11f706",
   "metadata": {},
   "outputs": [],
   "source": [
    "ethnicity_df"
   ]
  },
  {
   "cell_type": "code",
   "execution_count": null,
   "id": "24615846-1f5c-4fc3-b27d-2a0e17df8a0b",
   "metadata": {},
   "outputs": [],
   "source": [
    "plot_df(ethnicity_df, 'ETHNICITY')"
   ]
  },
  {
   "cell_type": "code",
   "execution_count": null,
   "id": "8ec7a5db-a4c8-45fd-874d-b7db7918c75f",
   "metadata": {},
   "outputs": [],
   "source": [
    "stage_df = create_count_df(df['STAGE_HIGHEST_RECORDED'])"
   ]
  },
  {
   "cell_type": "code",
   "execution_count": null,
   "id": "54d696d8-292e-4a28-b7ba-67be38f87344",
   "metadata": {},
   "outputs": [],
   "source": [
    "stage_df"
   ]
  },
  {
   "cell_type": "code",
   "execution_count": null,
   "id": "6c90da91-635f-45df-9d74-7fcc1e1d4b6a",
   "metadata": {},
   "outputs": [],
   "source": [
    "plot_df(stage_df, \"STAGE_HIGHEST_RECORDED\")"
   ]
  },
  {
   "cell_type": "code",
   "execution_count": null,
   "id": "169be374-ac9c-40ad-b332-11c7fec429c1",
   "metadata": {},
   "outputs": [],
   "source": [
    "gender_df = create_count_df(df['GENDER'])"
   ]
  },
  {
   "cell_type": "code",
   "execution_count": null,
   "id": "34fd58c7-25aa-4592-b907-6c63864b86e3",
   "metadata": {},
   "outputs": [],
   "source": [
    "gender_df"
   ]
  },
  {
   "cell_type": "code",
   "execution_count": null,
   "id": "a3cf04bf-26c0-43bb-b1d0-ce213620fea7",
   "metadata": {},
   "outputs": [],
   "source": [
    "plot_df(gender_df, 'GENDER')"
   ]
  },
  {
   "cell_type": "code",
   "execution_count": null,
   "id": "e8594249-6fb1-4bd7-a35b-a36b2624f6d6",
   "metadata": {},
   "outputs": [],
   "source": [
    "age_df = create_count_df(df['CURRENT_AGE_DEID'])"
   ]
  },
  {
   "cell_type": "code",
   "execution_count": null,
   "id": "b3b4a87d-0679-4cd2-9ab8-1941ba9be272",
   "metadata": {},
   "outputs": [],
   "source": [
    "plot_df(age_df, 'CURRENT_AGE_DEID')"
   ]
  },
  {
   "cell_type": "code",
   "execution_count": null,
   "id": "256a5b19-5789-46bf-b674-7821e35bdb0b",
   "metadata": {},
   "outputs": [],
   "source": [
    "metastatic_df = create_count_df(df['METASTATIC_SITE'])"
   ]
  },
  {
   "cell_type": "code",
   "execution_count": null,
   "id": "80cdc00d-ea84-4251-bd39-32b84127e9c4",
   "metadata": {},
   "outputs": [],
   "source": [
    "metastatic_df"
   ]
  },
  {
   "cell_type": "code",
   "execution_count": null,
   "id": "36a39018-b879-4f09-8308-8fc247680a85",
   "metadata": {},
   "outputs": [],
   "source": [
    "plot_df(metastatic_df, 'METASTATIC_SITE')"
   ]
  },
  {
   "cell_type": "code",
   "execution_count": null,
   "id": "96fb2fb0-d955-4c8c-8a79-0e0d94cd4514",
   "metadata": {},
   "outputs": [],
   "source": [
    "primary_df = create_count_df(df['PRIMARY_SITE'])"
   ]
  },
  {
   "cell_type": "code",
   "execution_count": null,
   "id": "2970c305-6d36-484d-adde-a88bd1d1777d",
   "metadata": {},
   "outputs": [],
   "source": [
    "primary_df"
   ]
  },
  {
   "cell_type": "code",
   "execution_count": null,
   "id": "3ef4404d-9f17-49d4-8124-1da38455d231",
   "metadata": {},
   "outputs": [],
   "source": [
    "plot_df(primary_df, 'PRIMARY_SITE')"
   ]
  },
  {
   "cell_type": "code",
   "execution_count": null,
   "id": "865e3608-bb6e-4c49-b5d5-95a5fb83d57d",
   "metadata": {},
   "outputs": [],
   "source": []
  },
  {
   "cell_type": "code",
   "execution_count": null,
   "id": "b829f0f1-3c50-458e-bc30-cb132041995a",
   "metadata": {},
   "outputs": [],
   "source": []
  }
 ],
 "metadata": {
  "kernelspec": {
   "display_name": "luna",
   "language": "python",
   "name": "luna"
  },
  "language_info": {
   "codemirror_mode": {
    "name": "ipython",
    "version": 3
   },
   "file_extension": ".py",
   "mimetype": "text/x-python",
   "name": "python",
   "nbconvert_exporter": "python",
   "pygments_lexer": "ipython3",
   "version": "3.9.16"
  }
 },
 "nbformat": 4,
 "nbformat_minor": 5
}
