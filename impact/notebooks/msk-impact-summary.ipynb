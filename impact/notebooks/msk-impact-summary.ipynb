{
 "cells": [
  {
   "cell_type": "markdown",
   "id": "d711f452",
   "metadata": {},
   "source": [
    "## MSK-IMPACT Summary\n",
    "\n",
    "This notebook contains a summary analysis of MSK-IMPACT data relevant for PDM\n",
    "\n",
    "Notes:\n",
    "- There isn't anything too interesting here. The main goal of this notebook was to put together graphs confirming the that msk-solid-heme/data_clinical_patient.txt and oncokb-annotated-msk-impact/data_clinical_sample.oncokb.txt put together form what we call the 'MSK-IMPACT cohort', called `df` in this notebook. A better summary of this data is found on cbioportal.mskcc.org in the MSK-IMPACT study. This was simply an exercise in confirming that. \n",
    "\n",
    "- Next steps might be to also incoorporate the treatment, patient timeline data into this as part of the data that comes served w/ PDM data"
   ]
  },
  {
   "cell_type": "code",
   "execution_count": null,
   "id": "5afacd7f",
   "metadata": {},
   "outputs": [],
   "source": [
    "import os\n",
    "import pandas as pd\n",
    "import matplotlib.pyplot as plt\n",
    "import getpass\n",
    "import sys\n",
    "\n",
    "from collections import Counter\n",
    "\n",
    "sys.path.append(\"../\")\n",
    "\n",
    "from connector import DremioDataframeConnector\n",
    "\n",
    "\n",
    "FONT_BASE = {\n",
    "    #\"family\": \"sans-serif\",\n",
    "    #\"sans-serif\": \"helvetica\",\n",
    "    \"weight\": \"normal\",\n",
    "    \"size\": 18,\n",
    "}\n",
    "\n",
    "plt.rc(\"font\", **FONT_BASE)\n",
    "plt.rc(\"axes\", unicode_minus=False)"
   ]
  },
  {
   "cell_type": "code",
   "execution_count": null,
   "id": "d6eeb719",
   "metadata": {},
   "outputs": [],
   "source": [
    "# Utility functions\n",
    "def create_summary_plot(df:pd.DataFrame, field:str, annotate=True, sort=True):\n",
    "    \"\"\"creates a simple count histogram of a particular field, stratified by patient and sample ID\"\"\"\n",
    "    fig, (ax1, ax2) = plt.subplots(nrows=2, ncols=1, figsize=(32, 32)) #, figsize=(32,32))\n",
    "    # fig.xticks(rotation=45, ha='right')\n",
    "\n",
    "\n",
    "    df_sample = df.groupby(by=[field])['SAMPLE_ID'].nunique().reset_index(name='count')\n",
    "    df_patient = df.groupby(by=[field])['PATIENT_ID'].nunique().reset_index(name='count')\n",
    "    \n",
    "    if sort:\n",
    "        df_sample = df.groupby(by=[field])['SAMPLE_ID'].nunique().reset_index(name='count').sort_values(['count'], ascending=False).reset_index()\n",
    "        df_patient = df.groupby(by=[field])['PATIENT_ID'].nunique().reset_index(name='count').sort_values(['count'], ascending=False).reset_index()\n",
    "\n",
    "    \n",
    "    bars = ax1.bar(df_sample.index, df_sample['count'])\n",
    "    ax1.set_xticks(df_sample.index)\n",
    "    ax1.set_xticklabels(df_sample[field], rotation=45, ha='right')\n",
    "    if annotate:\n",
    "        ax1.bar_label(bars)\n",
    "    \n",
    "    ax1.set_title(f\"Sample Level Histogram - {field}\")\n",
    "\n",
    "    bars = ax2.bar(df_patient.index, df_patient['count'], tick_label=df_patient[field])\n",
    "    ax2.set_xticks(df_patient.index)\n",
    "    ax2.set_xticklabels(df_patient[field], rotation=45, ha='right') #, labelsize=8)\n",
    "    if annotate:\n",
    "        ax2.bar_label(bars)\n",
    "    \n",
    "    ax2.set_title(f\"Patient Level Histogram - {field}\")\n",
    "\n",
    "    if len(df_sample.index)>20:\n",
    "        ax1.tick_params(axis='x',labelsize=12)\n",
    "        ax2.tick_params(axis='x',labelsize=12)\n",
    "    else:\n",
    "        ax1.tick_params(axis='x',labelsize=18)\n",
    "        ax2.tick_params(axis='x',labelsize=18)\n",
    "        \n",
    "    plt.tight_layout()\n",
    "    plt.show()\n",
    "\n",
    "def create_count_df(field):\n",
    "    _keys = Counter(field).keys()\n",
    "    _vals = Counter(field).values()\n",
    "\n",
    "    _df = pd.DataFrame({'Keys': _keys, 'Amount': _vals})\n",
    "    _df.sort_values(by=['Amount'], ascending=False).reset_index()\n",
    "\n",
    "    return _df\n",
    "\n",
    "def plot_df(graph_df, graph_title):\n",
    "    return graph_df.plot.bar(x=\"Keys\", y=\"Amount\", title=graph_title)"
   ]
  },
  {
   "cell_type": "code",
   "execution_count": null,
   "id": "d8709dea-c960-46b3-9896-96e3869ab1c6",
   "metadata": {},
   "outputs": [],
   "source": [
    "# Setup Dremio connector\n",
    "# Credentials (also could be read via .env)\n",
    "\n",
    "DREMIO_USER = input(\"Username: \")\n",
    "DREMIO_PASSWORD = getpass.getpass(prompt=\"Password or PAT: \", stream=None)\n",
    "\n",
    "dremio_session = DremioDataframeConnector(\n",
    "   scheme=\"grpc+tcp\",\n",
    "   hostname=\"tlvidreamcord1\",\n",
    "   flightport=32010,\n",
    "   dremio_user=DREMIO_USER,\n",
    "   dremio_password=DREMIO_PASSWORD,\n",
    "   connection_args={},\n",
    ")\n"
   ]
  },
  {
   "cell_type": "code",
   "execution_count": null,
   "id": "b7ffec96-32b4-4f0d-996e-04ea2c01ce1a",
   "metadata": {},
   "outputs": [],
   "source": [
    "patient_query = 'select * from impact.\"daily_data_clinical_patient.solid_heme.txt\"'\n",
    "patient_df = dremio_session.get_table(patient_query)\n",
    "display(patient_df)\n",
    "\n",
    "okb_query = 'select * from impact.\"daily_data_clinical_sample.oncokb.txt\"'\n",
    "okb_impact_df = dremio_session.get_table(okb_query)\n",
    "display(okb_impact_df)"
   ]
  },
  {
   "cell_type": "markdown",
   "id": "6900121e",
   "metadata": {},
   "source": [
    "## Merging our two data sources to form the so-called MSK-IMPACT dataset\n"
   ]
  },
  {
   "cell_type": "code",
   "execution_count": null,
   "id": "84131d4e-15b0-4b03-a215-006d1756d7ad",
   "metadata": {},
   "outputs": [],
   "source": [
    "df = okb_impact_df.merge(patient_df, on=\"PATIENT_ID\")"
   ]
  },
  {
   "cell_type": "code",
   "execution_count": null,
   "id": "e3b03bb2",
   "metadata": {},
   "outputs": [],
   "source": [
    "display(df)"
   ]
  },
  {
   "cell_type": "markdown",
   "id": "3bd0c4f2",
   "metadata": {},
   "source": [
    "### Sample and patient level summary figures"
   ]
  },
  {
   "cell_type": "code",
   "execution_count": null,
   "id": "93fd9b57-11da-48c8-ace6-de672245b1fd",
   "metadata": {},
   "outputs": [],
   "source": [
    "# cancer_df = create_count_df(df.groupby(['PATIENT_ID']))\n",
    "create_summary_plot(df, 'CANCER_TYPE')"
   ]
  },
  {
   "cell_type": "code",
   "execution_count": null,
   "id": "7e579caf-28a1-4918-a45b-c8102f66ff06",
   "metadata": {},
   "outputs": [],
   "source": [
    "create_summary_plot(df, 'RACE')"
   ]
  },
  {
   "cell_type": "code",
   "execution_count": null,
   "id": "24615846-1f5c-4fc3-b27d-2a0e17df8a0b",
   "metadata": {},
   "outputs": [],
   "source": [
    "create_summary_plot(df, 'ETHNICITY')"
   ]
  },
  {
   "cell_type": "code",
   "execution_count": null,
   "id": "8ec7a5db-a4c8-45fd-874d-b7db7918c75f",
   "metadata": {},
   "outputs": [],
   "source": [
    "create_summary_plot(df, 'STAGE_HIGHEST_RECORDED')"
   ]
  },
  {
   "cell_type": "code",
   "execution_count": null,
   "id": "a3cf04bf-26c0-43bb-b1d0-ce213620fea7",
   "metadata": {},
   "outputs": [],
   "source": [
    "create_summary_plot(df, 'GENDER')"
   ]
  },
  {
   "cell_type": "code",
   "execution_count": null,
   "id": "e8594249-6fb1-4bd7-a35b-a36b2624f6d6",
   "metadata": {},
   "outputs": [],
   "source": [
    "create_summary_plot(df, 'CURRENT_AGE_DEID', sort=False)"
   ]
  },
  {
   "cell_type": "code",
   "execution_count": null,
   "id": "23ef5200",
   "metadata": {},
   "outputs": [],
   "source": [
    "create_summary_plot(df, 'SAMPLE_CLASS')"
   ]
  },
  {
   "cell_type": "code",
   "execution_count": null,
   "id": "256a5b19-5789-46bf-b674-7821e35bdb0b",
   "metadata": {},
   "outputs": [],
   "source": [
    "df_met = df[df['METASTATIC_SITE']!='Not Applicable']\n",
    "create_summary_plot(df_met, 'METASTATIC_SITE')\n"
   ]
  },
  {
   "cell_type": "code",
   "execution_count": null,
   "id": "865e3608-bb6e-4c49-b5d5-95a5fb83d57d",
   "metadata": {},
   "outputs": [],
   "source": [
    "df_primary = df[df['METASTATIC_SITE']!='Unknown']\n",
    "\n",
    "create_summary_plot(df_primary, 'PRIMARY_SITE')"
   ]
  },
  {
   "cell_type": "code",
   "execution_count": null,
   "id": "b829f0f1-3c50-458e-bc30-cb132041995a",
   "metadata": {},
   "outputs": [],
   "source": []
  }
 ],
 "metadata": {
  "kernelspec": {
   "display_name": "luna",
   "language": "python",
   "name": "luna"
  },
  "language_info": {
   "codemirror_mode": {
    "name": "ipython",
    "version": 3
   },
   "file_extension": ".py",
   "mimetype": "text/x-python",
   "name": "python",
   "nbconvert_exporter": "python",
   "pygments_lexer": "ipython3",
   "version": "3.9.16"
  }
 },
 "nbformat": 4,
 "nbformat_minor": 5
}
