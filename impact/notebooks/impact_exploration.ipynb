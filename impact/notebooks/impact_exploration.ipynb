{
 "cells": [
  {
   "cell_type": "code",
   "execution_count": null,
   "id": "464f358c-42d0-4259-b556-27da5ef19b4d",
   "metadata": {},
   "outputs": [],
   "source": [
    "import os\n",
    "import pandas as pd"
   ]
  },
  {
   "cell_type": "code",
   "execution_count": null,
   "id": "6959427b-5fee-4fb1-b4f3-abf7dfd4329d",
   "metadata": {},
   "outputs": [],
   "source": [
    "IMPACT_DIR = '/Users/kohlia/Documents/codebase/msk-impact/msk_solid_heme'\n",
    "# IMPACT_DIR = \n",
    "ONCOKB_DIR = '/Users/kohlia/Documents/codebase/oncokb-annotated-msk-impact'"
   ]
  },
  {
   "cell_type": "code",
   "execution_count": null,
   "id": "9a575c33-e810-43bb-ade5-b0095b11d108",
   "metadata": {},
   "outputs": [],
   "source": [
    "impact_filename     = os.path.join(IMPACT_DIR, 'data_clinical_sample.txt')\n",
    "okb_impact_filename = os.path.join(ONCOKB_DIR, 'data_clinical_sample.oncokb.txt')"
   ]
  },
  {
   "cell_type": "code",
   "execution_count": null,
   "id": "7638fdf4-ea98-469e-ac4f-636f86350904",
   "metadata": {},
   "outputs": [],
   "source": [
    "impact_df     = pd.read_csv(impact_filename, sep='\\t', skiprows=3, header=1)\n",
    "okb_impact_df = pd.read_csv(okb_impact_filename, sep='\\t')"
   ]
  },
  {
   "cell_type": "code",
   "execution_count": null,
   "id": "76a3fd87-0649-4a92-bd5a-6069902877bd",
   "metadata": {},
   "outputs": [],
   "source": [
    "impact_df"
   ]
  },
  {
   "cell_type": "code",
   "execution_count": null,
   "id": "932dd7d3-a0a2-4ec1-a67b-e740252f3437",
   "metadata": {},
   "outputs": [],
   "source": [
    "okb_impact_df"
   ]
  },
  {
   "cell_type": "code",
   "execution_count": null,
   "id": "527256ef-063f-484e-ae47-431c4cbe16fc",
   "metadata": {},
   "outputs": [],
   "source": [
    "impact_unique_patients = set(impact_df['PATIENT_ID'])\n",
    "print(\"IMPACT     - Patients:\", len(impact_unique_patients))\n",
    "\n",
    "okb_impact_unique_patients = set(okb_impact_df['PATIENT_ID'])\n",
    "print(\"OKB IMPACT - Patients:\", len(okb_impact_unique_patients))\n",
    "\n",
    "impact_num_of_samples = impact_df['SAMPLE_ID']\n",
    "impact_unique_samples = set(impact_df['SAMPLE_ID'])\n",
    "print(\"IMPACT     - Samples:\", len(impact_num_of_samples), \" Unique:\", len(impact_unique_samples))\n",
    "\n",
    "okb_impact_num_of_samples = okb_impact_df['SAMPLE_ID']\n",
    "okb_impact_unique_samples = set(okb_impact_df['SAMPLE_ID'])\n",
    "print(\"OKB IMPACT - Samples:\", len(okb_impact_num_of_samples), \"Unique:\", len(okb_impact_unique_samples))"
   ]
  },
  {
   "cell_type": "code",
   "execution_count": null,
   "id": "3c966e20",
   "metadata": {},
   "outputs": [],
   "source": []
  },
  {
   "cell_type": "code",
   "execution_count": null,
   "id": "737bbb07-d649-4aab-bc0a-52e28eb71b90",
   "metadata": {},
   "outputs": [],
   "source": [
    "set(okb_impact_df.columns) - set(impact_df.columns)"
   ]
  },
  {
   "cell_type": "code",
   "execution_count": null,
   "id": "b2b21cef-d482-4260-aa01-98d59c9abea7",
   "metadata": {},
   "outputs": [],
   "source": [
    "okb_impact_df.columns"
   ]
  },
  {
   "cell_type": "code",
   "execution_count": null,
   "id": "77f5cf73-b242-4156-abf9-284cbb8e99dd",
   "metadata": {},
   "outputs": [],
   "source": [
    "set(impact_df.columns) - set(okb_impact_df.columns)"
   ]
  },
  {
   "cell_type": "code",
   "execution_count": null,
   "id": "8c530b24-d697-4563-bc13-9f4ef36f3dbd",
   "metadata": {},
   "outputs": [],
   "source": [
    "len(impact_unique_patients & okb_impact_unique_patients)"
   ]
  },
  {
   "cell_type": "code",
   "execution_count": null,
   "id": "d27472f3-1d90-4f34-8233-e9092a6da21a",
   "metadata": {},
   "outputs": [],
   "source": [
    "impact_unique_patients - okb_impact_unique_patients"
   ]
  },
  {
   "cell_type": "code",
   "execution_count": null,
   "id": "d287aa9f-066a-441b-9009-84f6b35c2a6c",
   "metadata": {},
   "outputs": [],
   "source": [
    "len(impact_unique_samples & okb_impact_unique_samples)"
   ]
  },
  {
   "cell_type": "code",
   "execution_count": null,
   "id": "2f3da545-31d7-488a-bf11-1c3d74bffa07",
   "metadata": {},
   "outputs": [],
   "source": [
    "impact_unique_samples - okb_impact_unique_samples"
   ]
  },
  {
   "cell_type": "code",
   "execution_count": null,
   "id": "44594e4d-4fdb-4c93-832b-5e390e2853f8",
   "metadata": {},
   "outputs": [],
   "source": [
    "patient_filename = os.path.join(IMPACT_DIR,'data_clinical_patient.txt')\n",
    "patient_df = pd.read_csv(patient_filename, skiprows=3, sep='\\t', header=1)"
   ]
  },
  {
   "cell_type": "code",
   "execution_count": null,
   "id": "e8944455-37eb-47c6-b66f-f7f9a610486b",
   "metadata": {},
   "outputs": [],
   "source": [
    "patient_df"
   ]
  },
  {
   "cell_type": "code",
   "execution_count": null,
   "id": "de864f47-ede3-46d4-a269-436c158656f8",
   "metadata": {},
   "outputs": [],
   "source": [
    "patient_filename = os.path.join(IMPACT_DIR,'meta_clinical_patient.txt')\n",
    "patient_df = pd.read_csv(patient_filename, sep='\\t')"
   ]
  },
  {
   "cell_type": "code",
   "execution_count": null,
   "id": "5d3a0ed7-1f98-4230-8a64-bdf67b99741b",
   "metadata": {},
   "outputs": [],
   "source": [
    "patient_df"
   ]
  },
  {
   "cell_type": "code",
   "execution_count": null,
   "id": "4a055846-1a65-407a-9c32-da9afccceda4",
   "metadata": {},
   "outputs": [],
   "source": []
  }
 ],
 "metadata": {
  "kernelspec": {
   "display_name": "Python 3 (ipykernel)",
   "language": "python",
   "name": "python3"
  },
  "language_info": {
   "codemirror_mode": {
    "name": "ipython",
    "version": 3
   },
   "file_extension": ".py",
   "mimetype": "text/x-python",
   "name": "python",
   "nbconvert_exporter": "python",
   "pygments_lexer": "ipython3",
   "version": "3.9.12"
  }
 },
 "nbformat": 4,
 "nbformat_minor": 5
}
