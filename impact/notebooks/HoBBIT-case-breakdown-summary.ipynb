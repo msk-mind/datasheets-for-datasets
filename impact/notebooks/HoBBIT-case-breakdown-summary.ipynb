{
 "cells": [
  {
   "cell_type": "markdown",
   "id": "a61b6f29",
   "metadata": {},
   "source": [
    "# HoBBIT Case Breakdown Summary\n",
    "\n",
    "\n",
    "\n",
    "## TOC:\n",
    "1. [High-Level Counts](#high-level-counts)\n",
    "    1. Resolved discrepencies between patient/slide/row counts\n",
    "2. [Basic Histograms](#histograms)\n",
    "    1. TODO - make histograms that examine slide magnification stratified by scanner model\n",
    "\n",
    "\n",
    "\n",
    "- update data sources to pull data in real time from github sources\n",
    "- use dremio/minio connectors in notebooks instead of filepaths\n",
    "- Fix import method for dremio\n",
    "\n",
    "\n",
    "- specimen number is not unique per patient (more than # of patients, less than # of slides)\n",
    "- signout_datetime should be later than datetime_accession \n",
    "- \n",
    "\n",
    "Questions:\n",
    "- is the same specimen scanned at 20x and 40x?\n",
    "- is there a trend where we see more slides scanned at 40x now vs years prior\n",
    "- Add figure to HoBBIT-case-breakdown-summary that looks at slide magnification stratified by scanner type, subspecialty\n",
    "- Add figure to HoBBIT-case-breakdown-summary that looks at stain_group and stain_name across stratified by subspecialty"
   ]
  },
  {
   "cell_type": "code",
   "execution_count": null,
   "id": "b039ef93",
   "metadata": {},
   "outputs": [],
   "source": [
    "import os\n",
    "import pandas as pd\n",
    "import sys\n",
    "import getpass\n",
    "import matplotlib.pyplot as plt\n",
    "import seaborn as sns\n",
    "\n",
    "sys.path.append(\"../\")\n",
    "\n",
    "from connector import DremioDataframeConnector\n",
    "pd.set_option('display.max_columns', None)\n",
    "\n",
    "FONT_BASE = {\n",
    "    #\"family\": \"sans-serif\",\n",
    "    #\"sans-serif\": \"helvetica\",\n",
    "    \"weight\": \"normal\",\n",
    "    \"size\": 18,\n",
    "}\n",
    "\n",
    "plt.rc(\"font\", **FONT_BASE)\n",
    "plt.rc(\"axes\", unicode_minus=False)\n",
    "from matplotlib import rcParams\n",
    "plt.rcParams.update({'figure.autolayout': True})"
   ]
  },
  {
   "cell_type": "code",
   "execution_count": null,
   "id": "1e97d8c1",
   "metadata": {},
   "outputs": [],
   "source": [
    "def create_summary_plot(df:pd.DataFrame, field:str, sort=True):\n",
    "    \"\"\"creates a simple count histogram of a particular field, stratified by patient and sample ID\"\"\"\n",
    "    fig, (ax1, ax2) = plt.subplots(nrows=2, ncols=1, figsize=(12, 12)) #, figsize=(32,32))\n",
    "# fig.xticks(rotation=45, ha='right')\n",
    "\n",
    "    df_sample = df.groupby(by=[field])['image_id'].nunique().reset_index(name='count')#.sort_values(['count'], ascending=False).reset_index()\n",
    "    df_patient = df.groupby(by=[field])['mrn'].nunique().reset_index(name='count')#.sort_values(['count'], ascending=False).reset_index()\n",
    "    \n",
    "    if sort:\n",
    "        df_sample = df.groupby(by=[field])['image_id'].nunique().reset_index(name='count').sort_values(['count'], ascending=False).reset_index()\n",
    "        df_patient = df.groupby(by=[field])['mrn'].nunique().reset_index(name='count').sort_values(['count'], ascending=False).reset_index()\n",
    "\n",
    "    bars = ax1.bar(df_sample.index, df_sample['count'])\n",
    "    ax1.set_xticks(df_sample.index)\n",
    "    ax1.set_xticklabels(df_sample[field], rotation=45, ha='right')\n",
    "    ax1.bar_label(bars)\n",
    "    ax1.set_title(f\"Slide Level Histogram - {field}\")\n",
    "\n",
    "    bars = ax2.bar(df_patient.index, df_patient['count'], tick_label=df_patient[field])\n",
    "    ax2.set_xticks(df_patient.index)\n",
    "    ax2.set_xticklabels(df_patient[field], rotation=45, ha='right') #, labelsize=8)\n",
    "    ax2.bar_label(bars)\n",
    "\n",
    "    ax2.set_title(f\"Patient Level Histogram - {field}\")\n",
    "    \n",
    "    plt.tight_layout()\n",
    "    plt.show()"
   ]
  },
  {
   "cell_type": "code",
   "execution_count": null,
   "id": "c9b9b1de-77c4-4247-b076-15fc6ea0aa2d",
   "metadata": {},
   "outputs": [],
   "source": [
    "def create_heatmap(df:pd.DataFrame, field1:str, field2:str, annotation=False):\n",
    "    _df = pd.crosstab(df[field1], df[field2])\n",
    "    sns.heatmap(_df, linewidths=0.5, cmap=\"coolwarm\", annot=annotation)\n",
    "    plt.show()"
   ]
  },
  {
   "cell_type": "code",
   "execution_count": null,
   "id": "d74cc6fd",
   "metadata": {},
   "outputs": [],
   "source": [
    "# Setup Dremio connector\n",
    "# Credentials (also could be read via .env)\n",
    "\n",
    "DREMIO_USER = input(\"Username: \")\n",
    "DREMIO_PASSWORD = getpass.getpass(prompt=\"Password or PAT: \", stream=None)\n",
    "\n",
    "dremio_session = DremioDataframeConnector(\n",
    "   scheme=\"grpc+tcp\",\n",
    "   hostname=\"tlvidreamcord1\",\n",
    "   flightport=32010,\n",
    "   dremio_user=DREMIO_USER,\n",
    "   dremio_password=DREMIO_PASSWORD,\n",
    "   connection_args={},\n",
    ")\n",
    "\n"
   ]
  },
  {
   "cell_type": "code",
   "execution_count": null,
   "id": "202753af",
   "metadata": {},
   "outputs": [],
   "source": [
    "query = 'select * from \"hobbit-poc\".\"case_breakdown\"'\n",
    "df = dremio_session.get_table(query)\n",
    "display(df)"
   ]
  },
  {
   "cell_type": "markdown",
   "id": "55ba46d3",
   "metadata": {},
   "source": [
    "## High-level Counts <a name=\"high-level-counts\"></a>\n",
    "\n",
    "We expect that, after removing duplicate rows, that we have the same number of slides as rows. This isn't true"
   ]
  },
  {
   "cell_type": "code",
   "execution_count": null,
   "id": "fdec2d6d",
   "metadata": {},
   "outputs": [],
   "source": [
    "print(f\"Number of patients: {len(df['mrn'].unique())}\")\n",
    "print(f\"Number of slides: {len(df['image_id'].unique())}\")\n",
    "print(f\"Number of rows: {len(df)}\")\n",
    "print(f\"Number of rows (removing duplicates): {len(df.drop_duplicates())}\")\n",
    "print(f\"Number of specimen numbers: {len(df['specnum_formatted'].unique())}\")\n"
   ]
  },
  {
   "cell_type": "markdown",
   "id": "97dac38f",
   "metadata": {},
   "source": [
    "After removing duplicates, there are a few amount of slides that still have duplicates. Slides that are\n",
    "repeated tend the `stain_group` of `SS` and `IHC`, but are otherwise identical, including filesize. This \n",
    "indicates that the same slide may have different metadata associated w/ it"
   ]
  },
  {
   "cell_type": "code",
   "execution_count": null,
   "id": "5cdaeefb",
   "metadata": {},
   "outputs": [],
   "source": [
    "df_tmp = df.drop_duplicates()\n",
    "ids = df_tmp['image_id']\n",
    "df_stain_dups = df_tmp[ids.isin(ids[ids.duplicated()])].sort_values(\"image_id\")\n"
   ]
  },
  {
   "cell_type": "code",
   "execution_count": null,
   "id": "61822b15",
   "metadata": {},
   "outputs": [],
   "source": [
    "df_stain_dups"
   ]
  },
  {
   "cell_type": "code",
   "execution_count": null,
   "id": "cbbcd087",
   "metadata": {},
   "outputs": [],
   "source": [
    "create_summary_plot(df_stain_dups, 'stain_group')"
   ]
  },
  {
   "cell_type": "markdown",
   "id": "ca895913",
   "metadata": {},
   "source": [
    "This looks really bad - there are duplicated slide IDs that coorespond to seemingly different MRNs? \n",
    "They have the same specimen numbers and other fields as well? I think until we figure out what's going on\n",
    "here we sould exclude these MRNs\n",
    "\n",
    "I think we can potentially recover the IHC/SS slides, but not so sure about the others. "
   ]
  },
  {
   "cell_type": "code",
   "execution_count": null,
   "id": "a0cd1f90",
   "metadata": {},
   "outputs": [],
   "source": [
    "display(df_stain_dups[~df_stain_dups['stain_group'].isin(['SS', 'IHC'])].sort_values(\"image_id\"))\n",
    "display(df_stain_dups[~df_stain_dups['stain_group'].isin(['SS', 'IHC'])].sort_values(\"mrn\"))"
   ]
  },
  {
   "cell_type": "code",
   "execution_count": null,
   "id": "32663ad0",
   "metadata": {},
   "outputs": [],
   "source": []
  },
  {
   "cell_type": "code",
   "execution_count": null,
   "id": "088d0955",
   "metadata": {},
   "outputs": [],
   "source": [
    "df_1 = df.drop_duplicates()\n",
    "df_1 = df_1[~df_1['mrn'].isin(df_stain_dups['mrn'])]\n",
    "\n"
   ]
  },
  {
   "cell_type": "markdown",
   "id": "c19f3d6c",
   "metadata": {},
   "source": [
    "After removing these patients/slides, then we get a senseable count, where the number of rows matches the number of slides. \n"
   ]
  },
  {
   "cell_type": "code",
   "execution_count": null,
   "id": "b8f60bed",
   "metadata": {},
   "outputs": [],
   "source": [
    "print(f\"Number of patients: {len(df_1['mrn'].unique())}\")\n",
    "print(f\"Number of slides: {len(df_1['image_id'].unique())}\")\n",
    "print(f\"Number of rows: {len(df_1)}\")\n",
    "print(f\"Number of rows (removing duplicates): {len(df_1.drop_duplicates())}\")"
   ]
  },
  {
   "cell_type": "markdown",
   "id": "ac4e0191",
   "metadata": {},
   "source": [
    "## Histograms <a name='histograms'></a>\n"
   ]
  },
  {
   "cell_type": "code",
   "execution_count": null,
   "id": "9cc3e40b",
   "metadata": {},
   "outputs": [],
   "source": [
    "create_summary_plot(df_1, 'subspecialty')"
   ]
  },
  {
   "cell_type": "code",
   "execution_count": null,
   "id": "c32b6806",
   "metadata": {},
   "outputs": [],
   "source": [
    "create_summary_plot(df_1, 'reduced_priority')"
   ]
  },
  {
   "cell_type": "code",
   "execution_count": null,
   "id": "0e4d77ee",
   "metadata": {},
   "outputs": [],
   "source": [
    "create_summary_plot(df_1, 'stain_group')"
   ]
  },
  {
   "cell_type": "code",
   "execution_count": null,
   "id": "8dc75a4e",
   "metadata": {},
   "outputs": [],
   "source": [
    "create_summary_plot(df_1, 'brand')"
   ]
  },
  {
   "cell_type": "code",
   "execution_count": null,
   "id": "121f644f",
   "metadata": {},
   "outputs": [],
   "source": [
    "create_summary_plot(df_1, 'model')"
   ]
  },
  {
   "cell_type": "code",
   "execution_count": null,
   "id": "04a33bfc",
   "metadata": {},
   "outputs": [],
   "source": [
    "create_summary_plot(df_1, 'magnification')"
   ]
  },
  {
   "cell_type": "markdown",
   "id": "53655dc2-cf8b-4195-8c45-78f79111d908",
   "metadata": {},
   "source": [
    "## Questions"
   ]
  },
  {
   "cell_type": "markdown",
   "id": "9940f72b-2e35-4dc8-b8d7-3fe431eb3f62",
   "metadata": {},
   "source": [
    "### Does scanner model affect magnification?"
   ]
  },
  {
   "cell_type": "markdown",
   "id": "040409a2-753e-4c44-86d6-08d95c708be3",
   "metadata": {},
   "source": [
    "- The AT2 Scanner is more likely to have images scanned at 20x.\n",
    "- The GT450 Scanner is more likely to have images scanned at 40x."
   ]
  },
  {
   "cell_type": "code",
   "execution_count": null,
   "id": "edb9cc22-ab02-488e-b547-b870f9543750",
   "metadata": {},
   "outputs": [],
   "source": [
    "at2_df = df_1[df_1.model == 'AT2']\n",
    "create_summary_plot(at2_df, 'magnification')"
   ]
  },
  {
   "cell_type": "code",
   "execution_count": null,
   "id": "e7bff194-d2cc-4ce4-8119-a18d053939e6",
   "metadata": {},
   "outputs": [],
   "source": [
    "gt450_df = df_1[df_1.model == 'GT450']\n",
    "create_summary_plot(gt450_df, 'magnification')"
   ]
  },
  {
   "cell_type": "code",
   "execution_count": null,
   "id": "84d72103-89ab-48f4-8739-b8ff8cfffcd2",
   "metadata": {},
   "outputs": [],
   "source": [
    "create_heatmap(df_1, 'magnification', 'model')"
   ]
  },
  {
   "cell_type": "code",
   "execution_count": null,
   "id": "d11b8931-f8ac-45df-86d8-66bbf68232ef",
   "metadata": {},
   "outputs": [],
   "source": [
    "create_heatmap(df_1, 'stain_group', 'magnification')"
   ]
  },
  {
   "cell_type": "code",
   "execution_count": null,
   "id": "47f5779c-a43d-4ef9-87ec-0172b63ad673",
   "metadata": {},
   "outputs": [],
   "source": [
    "years = [dt.year for dt in df.datetime_accession]\n",
    "df_by_year = df.assign(year=years)"
   ]
  },
  {
   "cell_type": "code",
   "execution_count": null,
   "id": "262185c6-d20d-45d7-9202-717a6c76329f",
   "metadata": {},
   "outputs": [],
   "source": [
    "df_by_year_20 = df_by_year[df_by_year.magnification == '20x']\n",
    "create_summary_plot(df_by_year_20, 'year', sort=False)"
   ]
  },
  {
   "cell_type": "code",
   "execution_count": null,
   "id": "52094f97-f9fa-446c-86b3-39918a926130",
   "metadata": {},
   "outputs": [],
   "source": [
    "df_by_year_40 = df_by_year[df_by_year.magnification == '40x']\n",
    "create_summary_plot(df_by_year_40, 'year', sort=False)"
   ]
  },
  {
   "cell_type": "code",
   "execution_count": null,
   "id": "78e18da7-3bf2-4824-842b-dfcf0937dd36",
   "metadata": {},
   "outputs": [],
   "source": []
  }
 ],
 "metadata": {
  "kernelspec": {
   "display_name": "luna",
   "language": "python",
   "name": "luna"
  },
  "language_info": {
   "codemirror_mode": {
    "name": "ipython",
    "version": 3
   },
   "file_extension": ".py",
   "mimetype": "text/x-python",
   "name": "python",
   "nbconvert_exporter": "python",
   "pygments_lexer": "ipython3",
   "version": "3.9.16"
  }
 },
 "nbformat": 4,
 "nbformat_minor": 5
}
