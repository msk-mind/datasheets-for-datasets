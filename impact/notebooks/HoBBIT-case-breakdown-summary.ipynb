{
 "cells": [
  {
   "cell_type": "markdown",
   "id": "9383e65b",
   "metadata": {},
   "source": [
    "# HoBBIT Case Breakdown Summary\n",
    "\n",
    "\n",
    "\n",
    "## TOC:\n",
    "1. [High-Level Counts](#high-level-counts)\n",
    "    1. Resolved discrepencies between patient/slide/row counts\n",
    "2. [Basic Histograms](#histograms)\n",
    "    1. TODO - make histograms that examine slide magnification stratified by scanner model\n",
    "\n",
    "\n",
    "\n",
    "- update data sources to pull data in real time from github sources\n",
    "- use dremio/minio connectors in notebooks instead of filepaths\n",
    "- Fix import method for dremio\n",
    "\n"
   ]
  },
  {
   "cell_type": "code",
   "execution_count": null,
   "id": "6bbb53b8",
   "metadata": {},
   "outputs": [],
   "source": [
    "import os\n",
    "import pandas as pd\n",
    "import sys\n",
    "import getpass\n",
    "import matplotlib.pyplot as plt\n",
    "\n",
    "sys.path.append(\"../\")\n",
    "\n",
    "from connector import DremioDataframeConnector\n",
    "pd.set_option('display.max_columns', None)\n",
    "\n",
    "FONT_BASE = {\n",
    "    \"family\": \"sans-serif\",\n",
    "    \"sans-serif\": \"helvetica\",\n",
    "    \"weight\": \"normal\",\n",
    "    \"size\": 18,\n",
    "}\n",
    "\n",
    "plt.rc(\"font\", **FONT_BASE)\n",
    "plt.rc(\"axes\", unicode_minus=False)\n",
    "from matplotlib import rcParams\n",
    "plt.rcParams.update({'figure.autolayout': True})"
   ]
  },
  {
   "cell_type": "code",
   "execution_count": null,
   "id": "dda373f6",
   "metadata": {},
   "outputs": [],
   "source": [
    "def create_summary_plot(df:pd.DataFrame, field:str):\n",
    "    \"\"\"creates a simple count histogram of a particular field, stratified by patient and sample ID\"\"\"\n",
    "    fig, (ax1, ax2) = plt.subplots(nrows=2, ncols=1, figsize=(12, 12)) #, figsize=(32,32))\n",
    "# fig.xticks(rotation=45, ha='right')\n",
    "\n",
    "    df_sample = df.groupby(by=[field])['image_id'].nunique()\\\n",
    "            .reset_index(name='count')\\\n",
    "            .sort_values(['count'], ascending=False).reset_index()\n",
    "\n",
    "    df_patient = df.groupby(by=[field])['mrn'].nunique()\\\n",
    "            .reset_index(name='count')\\\n",
    "            .sort_values(['count'], ascending=False).reset_index()\n",
    "\n",
    "    bars = ax1.bar(df_sample.index, df_sample['count'])\n",
    "    ax1.set_xticks(df_sample.index)\n",
    "    ax1.set_xticklabels(df_sample[field], rotation=45, ha='right')\n",
    "    ax1.bar_label(bars)\n",
    "    ax1.set_title(f\"Slide Level Histogram - {field}\")\n",
    "\n",
    "    bars = ax2.bar(df_patient.index, df_patient['count'], tick_label=df_patient[field])\n",
    "    ax2.set_xticks(df_patient.index)\n",
    "    ax2.set_xticklabels(df_patient[field], rotation=45, ha='right') #, labelsize=8)\n",
    "    ax2.bar_label(bars)\n",
    "\n",
    "    ax2.set_title(f\"Patient Level Histogram - {field}\")\n",
    "    \n",
    "    plt.tight_layout()\n",
    "    plt.show()"
   ]
  },
  {
   "cell_type": "code",
   "execution_count": null,
   "id": "de1a0b9b",
   "metadata": {},
   "outputs": [],
   "source": [
    "# Setup Dremio connector\n",
    "# Credentials (also could be read via .env)\n",
    "\n",
    "DREMIO_USER = input(\"Username: \")\n",
    "DREMIO_PASSWORD = getpass.getpass(prompt=\"Password or PAT: \", stream=None)\n",
    "\n",
    "dremio_session = DremioDataframeConnector(\n",
    "   scheme=\"grpc+tcp\",\n",
    "   hostname=\"tlvidreamcord1\",\n",
    "   flightport=32010,\n",
    "   dremio_user=DREMIO_USER,\n",
    "   dremio_password=DREMIO_PASSWORD,\n",
    "   connection_args={},\n",
    ")\n",
    "\n"
   ]
  },
  {
   "cell_type": "code",
   "execution_count": null,
   "id": "32810e1d",
   "metadata": {},
   "outputs": [],
   "source": [
    "query = 'select * from \"hobbit-poc\".\"case_breakdown\"'\n",
    "df = dremio_session.get_table(query)\n",
    "display(df)"
   ]
  },
  {
   "cell_type": "markdown",
   "id": "200022cd",
   "metadata": {},
   "source": [
    "## High-level Counts <a name=\"high-level-counts\"></a>\n",
    "\n",
    "We expect that, after removing duplicate rows, that we have the same number of slides as rows. This isn't true"
   ]
  },
  {
   "cell_type": "code",
   "execution_count": null,
   "id": "1649d200",
   "metadata": {},
   "outputs": [],
   "source": [
    "print(f\"Number of patients: {len(df['mrn'].unique())}\")\n",
    "print(f\"Number of slides: {len(df['image_id'].unique())}\")\n",
    "print(f\"Number of rows: {len(df)}\")\n",
    "print(f\"Number of rows (removing duplicates): {len(df.drop_duplicates())}\")"
   ]
  },
  {
   "cell_type": "markdown",
   "id": "ad37cb7b",
   "metadata": {},
   "source": [
    "After removing duplicates, there are a few amount of slides that still have duplicates. Slides that are\n",
    "repeated tend the `stain_group` of `SS` and `IHC`, but are otherwise identical, including filesize. This \n",
    "indicates that the same slide may have different metadata associated w/ it"
   ]
  },
  {
   "cell_type": "code",
   "execution_count": null,
   "id": "c7394774",
   "metadata": {},
   "outputs": [],
   "source": [
    "df_tmp = df.drop_duplicates()\n",
    "ids = df_tmp['image_id']\n",
    "df_stain_dups = df_tmp[ids.isin(ids[ids.duplicated()])].sort_values(\"image_id\")\n"
   ]
  },
  {
   "cell_type": "code",
   "execution_count": null,
   "id": "406c68bb",
   "metadata": {},
   "outputs": [],
   "source": [
    "create_summary_plot(df_stain_dups, 'stain_group')"
   ]
  },
  {
   "cell_type": "markdown",
   "id": "fbf269bf",
   "metadata": {},
   "source": [
    "This looks really bad - there are duplicated slide IDs that coorespond to seemingly different MRNs? \n",
    "They have the same specimen numbers and other fields as well? I think until we figure out what's going on\n",
    "here we sould exclude these MRNs\n",
    "\n",
    "I think we can potentially recover the IHC/SS slides, but not so sure about the others. "
   ]
  },
  {
   "cell_type": "code",
   "execution_count": null,
   "id": "3f20fe52",
   "metadata": {},
   "outputs": [],
   "source": [
    "display(df_stain_dups[~df_stain_dups['stain_group'].isin(['SS', 'IHC'])].sort_values(\"image_id\"))\n",
    "display(df_stain_dups[~df_stain_dups['stain_group'].isin(['SS', 'IHC'])].sort_values(\"mrn\"))"
   ]
  },
  {
   "cell_type": "code",
   "execution_count": null,
   "id": "c4afb618",
   "metadata": {},
   "outputs": [],
   "source": [
    "df_1 = df.drop_duplicates()\n",
    "df_1 = df_1[~df_1['mrn'].isin(df_stain_dups['mrn'])]\n",
    "\n"
   ]
  },
  {
   "cell_type": "markdown",
   "id": "d4c05ac2",
   "metadata": {},
   "source": [
    "After removing these patients/slides, then we get a senseable count, where the number of rows matches the number of slides. \n"
   ]
  },
  {
   "cell_type": "code",
   "execution_count": null,
   "id": "d43b3645",
   "metadata": {},
   "outputs": [],
   "source": [
    "print(f\"Number of patients: {len(df_1['mrn'].unique())}\")\n",
    "print(f\"Number of slides: {len(df_1['image_id'].unique())}\")\n",
    "print(f\"Number of rows: {len(df_1)}\")\n",
    "print(f\"Number of rows (removing duplicates): {len(df_1.drop_duplicates())}\")"
   ]
  },
  {
   "cell_type": "markdown",
   "id": "15f26868",
   "metadata": {},
   "source": [
    "## Histograms <a name='histograms'></a>\n"
   ]
  },
  {
   "cell_type": "code",
   "execution_count": null,
   "id": "421ef6cf",
   "metadata": {},
   "outputs": [],
   "source": [
    "create_summary_plot(df_1, 'subspecialty')"
   ]
  },
  {
   "cell_type": "code",
   "execution_count": null,
   "id": "a7d0717e",
   "metadata": {},
   "outputs": [],
   "source": [
    "create_summary_plot(df_1, 'reduced_priority')"
   ]
  },
  {
   "cell_type": "code",
   "execution_count": null,
   "id": "f6cf26af",
   "metadata": {},
   "outputs": [],
   "source": [
    "create_summary_plot(df_1, 'stain_group')"
   ]
  },
  {
   "cell_type": "code",
   "execution_count": null,
   "id": "18dae310",
   "metadata": {},
   "outputs": [],
   "source": [
    "create_summary_plot(df_1, 'brand')"
   ]
  },
  {
   "cell_type": "code",
   "execution_count": null,
   "id": "32d7ae75",
   "metadata": {},
   "outputs": [],
   "source": [
    "create_summary_plot(df_1, 'model')"
   ]
  },
  {
   "cell_type": "code",
   "execution_count": null,
   "id": "bce7217d",
   "metadata": {},
   "outputs": [],
   "source": [
    "create_summary_plot(df_1, 'magnification')"
   ]
  }
 ],
 "metadata": {
  "kernelspec": {
   "display_name": "Python 3 (ipykernel)",
   "language": "python",
   "name": "python3"
  },
  "language_info": {
   "codemirror_mode": {
    "name": "ipython",
    "version": 3
   },
   "file_extension": ".py",
   "mimetype": "text/x-python",
   "name": "python",
   "nbconvert_exporter": "python",
   "pygments_lexer": "ipython3",
   "version": "3.9.10"
  }
 },
 "nbformat": 4,
 "nbformat_minor": 5
}
