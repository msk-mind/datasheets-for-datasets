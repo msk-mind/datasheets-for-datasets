{
 "cells": [
  {
   "cell_type": "markdown",
   "id": "aec12bd5",
   "metadata": {},
   "source": [
    "# PDM Data Summary\n",
    "\n",
    "\n",
    "\n",
    "## TODO:\n",
    "\n",
    "- distribution of # of slides per patient and sample (when relevant) from HoBBIT down the PDM tables\n",
    "- compare the distribution of various columns from HoBBIT down the PDM tables \n",
    " - overall, stratified by cancer type\n",
    " - number of slides, part_type, part_description stain_name, stain_group, scanner_id, brand, model, image_id \tmagnification\n",
    "- Look at strange values for the above fields, and see if there are values in the HoBBIT table that aren't in the subsequent PDM tables or vice versa\n",
    "- using the above, put together questions for Luke\n",
    " - The duplicate slide IDs, invalid MRNs\n",
    " - "
   ]
  },
  {
   "cell_type": "code",
   "execution_count": null,
   "id": "66f78b80",
   "metadata": {},
   "outputs": [],
   "source": [
    "import os\n",
    "import pandas as pd\n",
    "import seaborn as sns\n",
    "import sys\n",
    "import getpass\n",
    "import matplotlib.pyplot as plt\n",
    "import numpy as np\n",
    "sys.path.append(\"../\")\n",
    "\n",
    "from connector import DremioDataframeConnector\n",
    "pd.set_option('display.max_columns', None)\n",
    "\n",
    "FONT_BASE = {\n",
    "    #\"family\": \"sans-serif\",\n",
    "    #\"sans-serif\": \"helvetica\",\n",
    "    \"weight\": \"normal\",\n",
    "    \"size\": 12,\n",
    "}\n",
    "\n",
    "plt.rc(\"font\", **FONT_BASE)\n",
    "plt.rc(\"axes\", unicode_minus=False)\n",
    "from matplotlib import rcParams\n",
    "plt.rcParams.update({'figure.autolayout': True})\n",
    "\n",
    "\n",
    "def mrn_zero_pad(df: pd.DataFrame, col_mrn: str) -> pd.DataFrame:\n",
    "    \"\"\"zero pad MRN columns\"\"\"\n",
    "    df[col_mrn] = df[col_mrn].astype(str).str.zfill(8)\n",
    "    return df\n",
    "\n",
    "def plot_hist(df, col_sample, col_patient, annotate=True):\n",
    "    \"\"\"plots # of samples/slides per patient\"\"\"\n",
    "    fig, ax1 = plt.subplots(nrows=1, ncols=1, figsize=(8, 8)) #, figsize=(32,32))\n",
    "\n",
    "    df_sample = df.groupby(by=[col_patient])[col_sample].nunique()\\\n",
    "        .reset_index(name='count')\\\n",
    "        .sort_values(['count'], ascending=False).reset_index()\n",
    "    \n",
    "    bins = np.arange(1,df_sample['count'].max()+1)\n",
    "    counts, edges, bars = ax1.hist(df_sample['count'], bins=bins)\n",
    "    ax1.set_xticks(bins)\n",
    "    if annotate:\n",
    "        plt.bar_label(bars)\n",
    "    plt.title(f\"Number of {col_sample} per {col_patient}\")\n",
    "    plt.show()\n",
    "    \n",
    "def create_summary_plot(df:pd.DataFrame, field:str, sort=True, annotate=False, truncate=False, title_prefix=\"\"):\n",
    "    \"\"\"creates a simple count histogram of a particular field, stratified by patient and sample ID\"\"\"\n",
    "    fig, ax1 = plt.subplots(nrows=1, ncols=1, figsize=(4,4))\n",
    "        \n",
    "    if sort:\n",
    "        df_sample = df.groupby(by=[field])['image_id'].nunique().reset_index(name='count').sort_values(['count'], ascending=False).reset_index()\n",
    "\n",
    "    else:\n",
    "        df_sample = df.groupby(by=[field])['image_id'].nunique().reset_index(name='count')\n",
    "    \n",
    "    index  = df_sample.index\n",
    "    counts = df_sample['count']\n",
    "    labels = df_sample[field]\n",
    "    if truncate:\n",
    "        index  = index[:10]\n",
    "        counts = counts[:10]\n",
    "        labels = labels[:10]\n",
    "    \n",
    "    bars = ax1.bar(index, counts)\n",
    "    ax1.set_xticks(index)\n",
    "    ax1.set_xticklabels(labels, rotation=45, ha='right')\n",
    "    \n",
    "    if annotate:\n",
    "        ax1.bar_label(bars)\n",
    "    \n",
    "    if title_prefix:\n",
    "        title_prefix = f\"{title_prefix} - \"\n",
    "        \n",
    "    plt.title(f\"{title_prefix}Slide Level Histogram - {field}\")\n",
    "    plt.show()\n"
   ]
  },
  {
   "cell_type": "code",
   "execution_count": null,
   "id": "b78c0dcf-e330-4d86-87cb-6b6df633617b",
   "metadata": {},
   "outputs": [],
   "source": []
  },
  {
   "cell_type": "code",
   "execution_count": null,
   "id": "372b16f4",
   "metadata": {},
   "outputs": [],
   "source": [
    "# Setup Dremio connector\n",
    "# Credentials (also could be read via .env)\n",
    "\n",
    "DREMIO_USER = input(\"Username: \")\n",
    "DREMIO_PASSWORD = getpass.getpass(prompt=\"Password or PAT: \", stream=None)\n",
    "\n",
    "dremio_session = DremioDataframeConnector(\n",
    "   scheme=\"grpc+tcp\",\n",
    "   hostname=\"tlvidreamcord1\",\n",
    "   flightport=32010,\n",
    "   dremio_user=DREMIO_USER,\n",
    "   dremio_password=DREMIO_PASSWORD,\n",
    "   connection_args={},\n",
    ")\n",
    "\n"
   ]
  },
  {
   "cell_type": "markdown",
   "id": "407377fd",
   "metadata": {},
   "source": [
    "## Loading data sources\n",
    "\n",
    "Following code blocks are for loading in data sources (hobbit & IMPACT/CDM) and doing preliminary filtering and plotting"
   ]
  },
  {
   "cell_type": "code",
   "execution_count": null,
   "id": "be822449",
   "metadata": {},
   "outputs": [],
   "source": [
    "query = 'select * from \"hobbit-poc\".\"case_breakdown\"'\n",
    "df_hobbit = dremio_session.get_table(query)\n",
    "display(df_hobbit)"
   ]
  },
  {
   "cell_type": "code",
   "execution_count": null,
   "id": "9ad51e7e",
   "metadata": {},
   "outputs": [],
   "source": [
    "# Processing df_hobbit like in HoBBIT-case-breakdown-summary\n",
    "df_hobbit = df_hobbit.drop_duplicates()\n",
    "ids = df_hobbit['image_id']\n",
    "df_stain_dups = df_hobbit[ids.isin(ids[ids.duplicated()])].sort_values(\"image_id\")\n",
    "df_hobbit = df_hobbit[~df_hobbit['mrn'].isin(df_stain_dups['mrn'])]\n",
    "# also removing incorrect MRNs\n",
    "invalid_mrns = ['bsbsbs', 'GP102021LC', 'DMP12345']\n",
    "df_hobbit = df_hobbit[~(df_hobbit['mrn'].isin(invalid_mrns))]\n",
    "display(df_hobbit)"
   ]
  },
  {
   "cell_type": "code",
   "execution_count": null,
   "id": "db82a5f3",
   "metadata": {},
   "outputs": [],
   "source": [
    "print(f\"Number of patients: {len(df_hobbit['mrn'].unique())}\")\n",
    "print(f\"Number of slides: {len(df_hobbit['image_id'].unique())}\")\n",
    "print(f\"Number of rows: {len(df_hobbit)}\")\n",
    "print(f\"Number of rows (removing duplicates): {len(df_hobbit.drop_duplicates())}\")"
   ]
  },
  {
   "cell_type": "code",
   "execution_count": null,
   "id": "aa067847",
   "metadata": {},
   "outputs": [],
   "source": [
    "query = 'select * from impact.\"daily_data_clinical_sample.oncokb.txt\"'\n",
    "df_sample = dremio_session.get_table(query)\n",
    "\n",
    "display(df_sample)\n",
    "\n",
    "query = 'select * from impact.\"daily_data_clinical_patient.solid_heme.txt\"'\n",
    "df_patient = dremio_session.get_table(query).drop(0)\n",
    "\n",
    "display(df_patient)\n",
    "\n",
    "df_impact = df_sample.merge(df_patient, on=\"PATIENT_ID\", how='inner')\n",
    "display(df_impact)"
   ]
  },
  {
   "cell_type": "code",
   "execution_count": null,
   "id": "47d630f2",
   "metadata": {},
   "outputs": [],
   "source": [
    "# removing CFDNA samples\n",
    "\n",
    "df_impact = df_impact[df_impact['SAMPLE_CLASS']=='Tumor']\n",
    "\n",
    "print(f\"Number of patients: {len(df_impact['PATIENT_ID'].unique())}\")\n",
    "print(f\"Number of samples: {len(df_impact['SAMPLE_ID'].unique())}\")\n",
    "print(f\"Number of rows: {len(df_impact)}\")\n",
    "print(f\"Number of rows (removing duplicates): {len(df_impact.drop_duplicates())}\")\n"
   ]
  },
  {
   "cell_type": "code",
   "execution_count": null,
   "id": "ccd00292",
   "metadata": {},
   "outputs": [],
   "source": [
    "# distribution of # of samples per patient\n",
    "plot_hist(df_impact, col_sample='SAMPLE_ID',col_patient='PATIENT_ID')"
   ]
  },
  {
   "cell_type": "markdown",
   "id": "790c4ce5",
   "metadata": {},
   "source": [
    "### Notes on cdm pathology_impact_sample_summary_dop table\n",
    "\n",
    "- two samples that were flagged are already known, where the sample IDs cooresponded to different MRNs\n",
    "- table is larger than # of cases w/ IMPACT on cbioportal because of reasons outlined: \n",
    " - patients couldn've been consented to multiple pannels (i.e. Archer)\n",
    " - Patients only had partial consent to 12-245"
   ]
  },
  {
   "cell_type": "code",
   "execution_count": null,
   "id": "239cc56a",
   "metadata": {},
   "outputs": [],
   "source": [
    "query = 'select * from phi_data_lake.\"cdm-data\".pathology.\"table_pathology_impact_sample_summary_dop_anno.tsv\"'\n",
    "df_cdm = dremio_session.get_table(query)\n",
    "df_cdm = mrn_zero_pad(df_cdm, \"MRN\")\n",
    "# invalid SAMPLE IDS flagged by Chris - coorespond to multple MRNs\n",
    "invalid_dmp_ids = ['P-0000000-N-VR1', 'P-0032211-T02-IM6']\n",
    "df_cdm = df_cdm[~df_cdm['SAMPLE_ID'].isin(invalid_dmp_ids)]\n",
    "display(df_cdm)\n",
    "\n",
    "print(f\"Number of patients: {len(df_cdm['MRN'].unique())}\")\n",
    "print(f\"Number of samples: {len(df_cdm['SAMPLE_ID'].unique())}\")\n",
    "print(f\"Number of rows: {len(df_cdm)}\")\n",
    "print(f\"Number of rows (removing duplicates): {len(df_cdm.drop_duplicates())}\")\n"
   ]
  },
  {
   "cell_type": "code",
   "execution_count": null,
   "id": "552ad735",
   "metadata": {},
   "outputs": [],
   "source": []
  },
  {
   "cell_type": "code",
   "execution_count": null,
   "id": "10cb5884",
   "metadata": {},
   "outputs": [],
   "source": [
    "df_cdm['SOURCE_ACCESSION_NUMBER_0'] = df_cdm['SOURCE_ACCESSION_NUMBER_0'].replace('', np.nan)\n",
    "df_cdm['SOURCE_SPEC_NUM_0'] = df_cdm['SOURCE_SPEC_NUM_0'].replace('', np.nan)\n",
    "\n",
    "df_cdm = df_cdm.dropna(subset=['SOURCE_ACCESSION_NUMBER_0'])\n",
    "df_cdm = df_cdm.dropna(subset=['SOURCE_SPEC_NUM_0'])\n",
    "\n",
    "display(df_cdm)\n",
    "print(f\"Number of patients: {len(df_cdm['MRN'].unique())}\")\n",
    "print(f\"Number of samples: {len(df_cdm['SAMPLE_ID'].unique())}\")\n",
    "print(f\"Number of rows: {len(df_cdm)}\")\n",
    "print(f\"Number of rows (removing duplicates): {len(df_cdm.drop_duplicates())}\")"
   ]
  },
  {
   "cell_type": "code",
   "execution_count": null,
   "id": "dd4ade41",
   "metadata": {},
   "outputs": [],
   "source": [
    "plot_hist(df_cdm, col_sample='SAMPLE_ID',col_patient='MRN')\n"
   ]
  },
  {
   "cell_type": "code",
   "execution_count": null,
   "id": "b9a36c24",
   "metadata": {},
   "outputs": [],
   "source": [
    "df_impact = df_impact.merge(df_cdm, on='SAMPLE_ID', how='inner')\n",
    "display(df_impact)\n",
    "print(f\"Number of patients (MRN): {len(df_impact['MRN'].unique())}\")\n",
    "print(f\"Number of patients (Patient ID): {len(df_impact['PATIENT_ID'].unique())}\")\n",
    "print(f\"Number of samples: {len(df_impact['SAMPLE_ID'].unique())}\")\n",
    "print(f\"Number of rows: {len(df_impact)}\")\n",
    "print(f\"Number of rows (removing duplicates): {len(df_impact.drop_duplicates())}\")"
   ]
  },
  {
   "cell_type": "code",
   "execution_count": null,
   "id": "27133138",
   "metadata": {},
   "outputs": [],
   "source": [
    "# relative drop off in number of IMPCAT samples per patient when inner joined on IMPACT table\n",
    "plot_hist(df_impact, col_sample='SAMPLE_ID',col_patient='MRN')\n"
   ]
  },
  {
   "cell_type": "markdown",
   "id": "4bacdb4b",
   "metadata": {},
   "source": [
    "## PDM Data Merges\n",
    "\n",
    "Subsequent codeblocks are for merging data between IMPACT/CDM and HoBBIT and analyzing the results"
   ]
  },
  {
   "cell_type": "code",
   "execution_count": null,
   "id": "2fce4a9f",
   "metadata": {},
   "outputs": [],
   "source": [
    "display(df_hobbit)\n",
    "df_merge_patient = df_impact.merge(df_hobbit, left_on='MRN', right_on='mrn', how='inner') #, how='left')\n",
    "display(df_merge_patient)\n",
    "print(f\"Number of patients (MRN): {len(df_merge_patient['MRN'].unique())}\")\n",
    "print(f\"Number of patients (Patient ID): {len(df_merge_patient['PATIENT_ID'].unique())}\")\n",
    "print(f\"Number of samples: {len(df_merge_patient['SAMPLE_ID'].unique())}\")\n",
    "print(f\"Number of slides: {len(df_merge_patient['image_id'].unique())}\")\n",
    "\n",
    "print(f\"Number of rows: {len(df_merge_patient)}\")\n",
    "print(f\"Number of rows (removing duplicates): {len(df_merge_patient.drop_duplicates())}\")\n",
    "\n",
    "\n",
    "# print(len(set(df_merge_patient['MRN'].to_list())))\n",
    "# print(len(set(df_merge_patient['SAMPLE_ID'].to_list())))\n",
    "# print(len(set(df_merge_patient['image_id'].to_list())))\n"
   ]
  },
  {
   "cell_type": "code",
   "execution_count": null,
   "id": "90e4d308",
   "metadata": {},
   "outputs": [],
   "source": [
    "df_merge_accession = df_impact.merge(df_hobbit, left_on=['MRN', 'SOURCE_ACCESSION_NUMBER_0'], right_on=['mrn','specnum_formatted'], how='inner') #, how='left')\n",
    "print(f\"Number of patients (MRN): {len(df_merge_accession['MRN'].unique())}\")\n",
    "print(f\"Number of patients (Patient ID): {len(df_merge_accession['PATIENT_ID'].unique())}\")\n",
    "print(f\"Number of samples: {len(df_merge_accession['SAMPLE_ID'].unique())}\")\n",
    "print(f\"Number of slides: {len(df_merge_accession['image_id'].unique())}\")\n",
    "\n",
    "print(f\"Number of rows: {len(df_merge_accession)}\")\n",
    "print(f\"Number of rows (removing duplicates): {len(df_merge_accession.drop_duplicates())}\")\n",
    "\n"
   ]
  },
  {
   "cell_type": "code",
   "execution_count": null,
   "id": "c6e0d664",
   "metadata": {},
   "outputs": [],
   "source": [
    "df_hobbit['part_inst'] = df_hobbit['part_inst'].astype(str)\n",
    "df_merge_part = df_impact.merge(df_hobbit, left_on=['MRN', 'SOURCE_ACCESSION_NUMBER_0', 'SOURCE_SPEC_NUM_0'], right_on=['mrn','specnum_formatted', 'part_inst'], how='inner') #, how='left')\n",
    "# df_hobb\n",
    "display(df_merge_part)\n",
    "print(f\"Number of patients (MRN): {len(df_merge_part['MRN'].unique())}\")\n",
    "print(f\"Number of patients (Patient ID): {len(df_merge_part['PATIENT_ID'].unique())}\")\n",
    "print(f\"Number of samples: {len(df_merge_part['SAMPLE_ID'].unique())}\")\n",
    "print(f\"Number of slides: {len(df_merge_part['image_id'].unique())}\")\n",
    "\n",
    "print(f\"Number of rows: {len(df_merge_part)}\")\n",
    "print(f\"Number of rows (removing duplicates): {len(df_merge_part.drop_duplicates())}\")\n",
    "\n"
   ]
  },
  {
   "cell_type": "code",
   "execution_count": null,
   "id": "aa5f8ac9",
   "metadata": {},
   "outputs": [],
   "source": [
    "df_merge_part"
   ]
  },
  {
   "cell_type": "markdown",
   "id": "e78fe4ed-ae4d-4963-aafb-a32c927dbdd1",
   "metadata": {},
   "source": [
    "## Analysis "
   ]
  },
  {
   "cell_type": "markdown",
   "id": "5f143d85-2ffc-4ef6-8fb6-53f9dfc8fffc",
   "metadata": {},
   "source": [
    "**TODO**\n",
    "- Compare for each cancer type\n",
    "    - primary, met, or both\n",
    "- Look at stain names within IHC stain group\n",
    "- impact sequencing in stain name(?)"
   ]
  },
  {
   "cell_type": "markdown",
   "id": "01f633fc-7f21-4e02-93d0-373fa35d9002",
   "metadata": {},
   "source": [
    "### Look at Changes Across Merges"
   ]
  },
  {
   "cell_type": "code",
   "execution_count": null,
   "id": "d623c239-b39a-4ce3-8a72-3af61ee47a0c",
   "metadata": {},
   "outputs": [],
   "source": [
    "def series_summary_plots(dfs:list[pd.DataFrame], fields:list[str], titles:list[str], truncate=True):\n",
    "    print('================================')\n",
    "    for field in fields:\n",
    "        for i in range(len(dfs)):\n",
    "            create_summary_plot(dfs[i], field, title_prefix=titles[i], truncate=truncate)\n",
    "        print('================================')"
   ]
  },
  {
   "cell_type": "code",
   "execution_count": null,
   "id": "202f63f9-6754-4bc0-a522-6eca522481ab",
   "metadata": {},
   "outputs": [],
   "source": [
    "dfs    = [df_hobbit, df_merge_patient, df_merge_accession, df_merge_part]\n",
    "titles = [\"Hobbit\", \"Merged on Patient\", \"Merged on Accession\", \"Merged on Part\"]\n",
    "fields = ['part_type', 'magnification', 'stain_name', 'stain_group', \n",
    "          'brand', 'model', 'priority']\n",
    "\n",
    "series_summary_plots(dfs, fields, titles)"
   ]
  },
  {
   "cell_type": "code",
   "execution_count": null,
   "id": "8680508d-e4d6-4670-9dee-90056f0f9ee0",
   "metadata": {},
   "outputs": [],
   "source": [
    "set(df_merge_patient.CANCER_TYPE)"
   ]
  },
  {
   "cell_type": "markdown",
   "id": "f6bac541-eb7d-4706-bba3-f79dc742f2b4",
   "metadata": {},
   "source": [
    "### By Cancer Type, Look at Changes Across Merges "
   ]
  },
  {
   "cell_type": "code",
   "execution_count": null,
   "id": "9a161352-1567-4fd0-a701-593751574e90",
   "metadata": {},
   "outputs": [],
   "source": [
    "def series_summary_plots_by_cancer(cancers: list[str], dfs:list[pd.DataFrame], fields:list[str], titles:list[str], truncate=True):\n",
    "    print('================================')\n",
    "    for cancer in cancers:\n",
    "        _dfs    = [_df[_df.CANCER_TYPE == cancer] for _df in dfs]\n",
    "        _titles = [f\"{cancer} - {title}\" for title in titles]\n",
    "        series_summary_plots(_dfs, fields, _titles, truncate=truncate)\n",
    "    print('================================')"
   ]
  },
  {
   "cell_type": "code",
   "execution_count": null,
   "id": "5397ddd3-623c-4522-9989-26fc0a623a3c",
   "metadata": {},
   "outputs": [],
   "source": [
    "dfs     = [df_merge_patient, df_merge_accession, df_merge_part]\n",
    "titles  = [\"Merged on Patient\", \"Merged on Accession\", \"Merged on Part\"]\n",
    "fields  = ['part_type', 'magnification', 'stain_name', \n",
    "           'stain_group', 'model', 'priority']\n",
    "cancers = ['Breast Cancer', 'Ovarian Cancer', 'Non-Small Cell Lung Cancer', 'Colorectal Cancer' ]\n",
    "\n",
    "series_summary_plots_by_cancer(cancers, dfs, fields, titles, truncate=True)"
   ]
  },
  {
   "cell_type": "code",
   "execution_count": null,
   "id": "fd1aa15f-3c66-4faa-8efa-8faada2053a6",
   "metadata": {},
   "outputs": [],
   "source": [
    "df_merge_patient_ihc = df_merge_patient[df_merge_patient['stain_group'] == 'IHC']\n",
    "df_merge_accession_ihc = df_merge_accession[df_merge_accession['stain_group'] == 'IHC']\n",
    "df_merge_part_ihc = df_merge_part[df_merge_part['stain_group'] == 'IHC']"
   ]
  },
  {
   "cell_type": "code",
   "execution_count": null,
   "id": "9db347d8-a6a2-443c-a0da-7f4a5ab6e9b1",
   "metadata": {},
   "outputs": [],
   "source": [
    "create_summary_plot(df_merge_patient_ihc, 'stain_name', truncate=True)\n",
    "create_summary_plot(df_merge_accession_ihc, 'stain_name', truncate=True)\n",
    "create_summary_plot(df_merge_part_ihc, 'stain_name', truncate=True)"
   ]
  },
  {
   "cell_type": "markdown",
   "id": "f9ff19d7-8302-46d5-879f-024d54658f75",
   "metadata": {},
   "source": [
    "## Per Cancer, IHC Stain Names"
   ]
  },
  {
   "cell_type": "code",
   "execution_count": null,
   "id": "7f075598-dd5d-4d65-b439-97bf290a11c2",
   "metadata": {},
   "outputs": [],
   "source": [
    "dfs     = [df_merge_patient_ihc, df_merge_accession_ihc, df_merge_part_ihc]\n",
    "titles  = [\"Merged on Patient (IHC Only)\", \"Merged on Accession (IHC Only)\", \"Merged on Part (IHC Only)\"]\n",
    "fields  = ['stain_name']\n",
    "cancers = ['Breast Cancer', 'Ovarian Cancer', 'Non-Small Cell Lung Cancer', 'Colorectal Cancer' ]\n",
    "\n",
    "series_summary_plots_by_cancer(cancers, dfs, fields, titles, truncate=True)"
   ]
  },
  {
   "cell_type": "markdown",
   "id": "5895e43e-8ede-4275-937a-dfdc51292c3d",
   "metadata": {},
   "source": [
    "## By Cancer, Primary vs Metastatic Sites Part Type"
   ]
  },
  {
   "cell_type": "code",
   "execution_count": null,
   "id": "524f4df8-591b-4504-9ccc-bb986998457d",
   "metadata": {},
   "outputs": [],
   "source": [
    "df_merge_part_primary    = df_merge_part[df_merge_part.SAMPLE_TYPE == 'Primary']\n",
    "df_merge_part_metastasis = df_merge_part[df_merge_part.SAMPLE_TYPE == 'Metastasis']\n",
    "df_merge_part_unknown    = df_merge_part[df_merge_part.SAMPLE_TYPE == 'Unknown']"
   ]
  },
  {
   "cell_type": "code",
   "execution_count": null,
   "id": "ff2af073-69fe-4f4c-abd3-ed3acd020400",
   "metadata": {},
   "outputs": [],
   "source": [
    "dfs     = [df_merge_part_primary, df_merge_part_metastasis, df_merge_part_unknown]\n",
    "titles  = [\"Merged on Part (Primary)\", \"Merged on Part (Metastasis)\", \"Merged on Part (Unknown)\"]\n",
    "fields  = ['part_type']\n",
    "cancers = ['Breast Cancer', 'Ovarian Cancer', 'Non-Small Cell Lung Cancer', 'Colorectal Cancer' ]\n",
    "\n",
    "series_summary_plots_by_cancer(cancers, dfs, fields, titles, truncate=True)"
   ]
  },
  {
   "cell_type": "code",
   "execution_count": null,
   "id": "99e689a7-501e-4c2b-a854-374c01ef0595",
   "metadata": {},
   "outputs": [],
   "source": []
  },
  {
   "cell_type": "code",
   "execution_count": null,
   "id": "721d49f1-beff-42f1-a522-1ae3648881ec",
   "metadata": {},
   "outputs": [],
   "source": []
  }
 ],
 "metadata": {
  "kernelspec": {
   "display_name": "luna",
   "language": "python",
   "name": "luna"
  },
  "language_info": {
   "codemirror_mode": {
    "name": "ipython",
    "version": 3
   },
   "file_extension": ".py",
   "mimetype": "text/x-python",
   "name": "python",
   "nbconvert_exporter": "python",
   "pygments_lexer": "ipython3",
   "version": "3.9.16"
  }
 },
 "nbformat": 4,
 "nbformat_minor": 5
}
