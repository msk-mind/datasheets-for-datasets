{
 "cells": [
  {
   "cell_type": "code",
   "execution_count": 1,
   "id": "439fec49",
   "metadata": {},
   "outputs": [],
   "source": [
    "import os\n",
    "import pandas as pd\n",
    "import sys\n",
    "import getpass\n",
    "import matplotlib.pyplot as plt\n",
    "import seaborn as sns\n",
    "\n",
    "sys.path.append(\"../\")\n",
    "\n",
    "from connector import DremioDataframeConnector\n",
    "pd.set_option('display.max_columns', None)\n",
    "\n",
    "FONT_BASE = {\n",
    "    #\"family\": \"sans-serif\",\n",
    "    #\"sans-serif\": \"helvetica\",\n",
    "    \"weight\": \"normal\",\n",
    "    \"size\": 18,\n",
    "}\n",
    "\n",
    "plt.rc(\"font\", **FONT_BASE)\n",
    "plt.rc(\"axes\", unicode_minus=False)\n",
    "from matplotlib import rcParams\n",
    "plt.rcParams.update({'figure.autolayout': True})\n",
    "import matplotlib as mpl\n",
    "mpl.rcParams['figure.facecolor'] = 'white'\n"
   ]
  },
  {
   "cell_type": "code",
   "execution_count": 2,
   "id": "85a536dd",
   "metadata": {},
   "outputs": [
    {
     "name": "stdout",
     "output_type": "stream",
     "text": [
      "/Users/kohlia/Documents/codebase/datasheets-for-datasets/impact-slide/hobbit\r\n"
     ]
    }
   ],
   "source": [
    "!pwd"
   ]
  },
  {
   "cell_type": "code",
   "execution_count": 3,
   "id": "3ac23d77",
   "metadata": {},
   "outputs": [],
   "source": [
    "def create_summary_plot(df:pd.DataFrame, field:str, sort=True, annotate=False, truncate=False, title=\"\"):\n",
    "    \"\"\"creates a simple count histogram of a particular field, stratified by patient and sample ID\"\"\"\n",
    "    fig, ax1 = plt.subplots(nrows=1, ncols=1, figsize=(8,8))\n",
    "        \n",
    "    if sort:\n",
    "        df_sample = df.groupby(by=[field])['image_id'].nunique().reset_index(name='count').sort_values(['count'], ascending=False).reset_index()\n",
    "\n",
    "    else:\n",
    "        df_sample = df.groupby(by=[field])['image_id'].nunique().reset_index(name='count')\n",
    "    \n",
    "    index  = df_sample.index\n",
    "    counts = df_sample['count']\n",
    "    labels = df_sample[field]\n",
    "    if truncate:\n",
    "        index  = index[:10]\n",
    "        counts = counts[:10]\n",
    "        labels = labels[:10]\n",
    "    \n",
    "    bars = ax1.bar(index, counts)\n",
    "    ax1.set_xticks(index)\n",
    "    ax1.set_xticklabels(labels, rotation=45, ha='right')\n",
    "    ax1.set_ylabel(\"Number of Slides\")\n",
    "    if annotate:\n",
    "        ax1.bar_label(bars)\n",
    "    \n",
    "\n",
    "    plt.title(title)\n",
    "    return plt\n"
   ]
  },
  {
   "cell_type": "code",
   "execution_count": 4,
   "id": "caf72fb3",
   "metadata": {},
   "outputs": [
    {
     "name": "stdout",
     "output_type": "stream",
     "text": [
      "Username: kohlia\n",
      "Password or PAT: ········\n"
     ]
    }
   ],
   "source": [
    "# Setup Dremio connector\n",
    "# Credentials (also could be read via .env)\n",
    "\n",
    "DREMIO_USER = input(\"Username: \")\n",
    "DREMIO_PASSWORD = getpass.getpass(prompt=\"Password or PAT: \", stream=None)\n",
    "\n",
    "dremio_session = DremioDataframeConnector(\n",
    "   scheme=\"grpc+tcp\",\n",
    "   hostname=\"tlvidreamcord1\",\n",
    "   flightport=32010,\n",
    "   dremio_user=DREMIO_USER,\n",
    "   dremio_password=DREMIO_PASSWORD,\n",
    "   connection_args={},\n",
    ")\n",
    "\n"
   ]
  },
  {
   "cell_type": "markdown",
   "id": "c1f1a6e3",
   "metadata": {},
   "source": [
    "## HoBBIT casebreakdown"
   ]
  },
  {
   "cell_type": "code",
   "execution_count": null,
   "id": "a17a5c9b",
   "metadata": {},
   "outputs": [
    {
     "name": "stdout",
     "output_type": "stream",
     "text": [
      "[INFO] Query:  select * from \"hobbit-poc\".\"case_breakdown\"\n"
     ]
    }
   ],
   "source": [
    "# Querying HoBBIT Casebreakdown table\n",
    "query = 'select * from \"hobbit-poc\".\"case_breakdown\"'\n",
    "df = dremio_session.get_table(query)\n",
    "display(df)"
   ]
  },
  {
   "cell_type": "code",
   "execution_count": null,
   "id": "63d850c8",
   "metadata": {},
   "outputs": [],
   "source": [
    "# Check for missingness\n",
    "df.isnull().sum(axis=0)"
   ]
  },
  {
   "cell_type": "code",
   "execution_count": null,
   "id": "21a2a9b8",
   "metadata": {},
   "outputs": [],
   "source": [
    "# Plotting Available Stains\n",
    "\n",
    "plt = create_summary_plot(df, 'stain_group', truncate=True, title='Stain Groups')\n",
    "plt.savefig(\"./figures/available_stains.png\", bbox_inches='tight', facecolor='white')"
   ]
  },
  {
   "cell_type": "code",
   "execution_count": null,
   "id": "923d458f",
   "metadata": {},
   "outputs": [],
   "source": [
    "# Plotting available IHC stains\n",
    "\n",
    "plt = create_summary_plot(df[df['stain_group']=='IHC'], 'stain_name', truncate=True, title='Examples of Available IHC Stains')\n",
    "plt.savefig(\"./figures/available_ihc.png\", bbox_inches='tight', facecolor='white')"
   ]
  },
  {
   "cell_type": "code",
   "execution_count": null,
   "id": "0f18f181",
   "metadata": {},
   "outputs": [],
   "source": [
    "# Plotting available slide magnifications by scanner model\n",
    "\n",
    "fig, ax = plt.subplots(nrows=1, ncols=1, figsize=(4, 6)) #, figsize=(32,32))\n",
    "\n",
    "_df = pd.crosstab(df['model'], df['magnification'])\n",
    "display(_df)\n",
    "\n",
    "fig = sns.heatmap(_df, linewidths=0.5, cmap=\"coolwarm\", annot=False)\n",
    "fig.set_xticklabels(labels=_df.columns, rotation=45, ha='right') #, labelsize=8)\n",
    "plt.savefig(\"./figures/magnification.png\", bbox_inches='tight', facecolor='white')"
   ]
  },
  {
   "cell_type": "code",
   "execution_count": null,
   "id": "0b910903",
   "metadata": {},
   "outputs": [],
   "source": []
  },
  {
   "cell_type": "code",
   "execution_count": null,
   "id": "ef294544",
   "metadata": {},
   "outputs": [],
   "source": []
  }
 ],
 "metadata": {
  "kernelspec": {
   "display_name": "Python 3 (ipykernel)",
   "language": "python",
   "name": "python3"
  },
  "language_info": {
   "codemirror_mode": {
    "name": "ipython",
    "version": 3
   },
   "file_extension": ".py",
   "mimetype": "text/x-python",
   "name": "python",
   "nbconvert_exporter": "python",
   "pygments_lexer": "ipython3",
   "version": "3.9.10"
  }
 },
 "nbformat": 4,
 "nbformat_minor": 5
}
